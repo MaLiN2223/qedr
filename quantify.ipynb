{
 "cells": [
  {
   "cell_type": "markdown",
   "metadata": {},
   "source": [
    "# Load data"
   ]
  },
  {
   "cell_type": "code",
   "execution_count": 1,
   "metadata": {},
   "outputs": [],
   "source": [
    "from lib.eval.regression import normalize\n",
    "from lib.zero_shot import get_gap_ids\n",
    "import os\n",
    "import numpy as np\n",
    "seed = 123\n",
    "rng = np.random.RandomState(seed)\n",
    "\n",
    "# setup\n",
    "data_dir = 'data/' \n",
    "codes_dir = os.path.join(data_dir, 'codes/')\n",
    "\n",
    "n_c = 6 # num code variables\n",
    "zshot = True\n",
    "\n",
    "model_names = ['PCA', 'InfoGAN']\n",
    "n_models = len(model_names)\n",
    "train_fract, dev_fract, test_fract = 0.8, 0.1, 0.1\n",
    "#exp_names = [\"{0}_{1}_{2}v\".format(m.lower(), zshot, n_c) for m in model_names]\n",
    "exp_names = [\"pca_True_6v\", \"infogan_True_6v\"]\n",
    "\n",
    "# load inputs (model codes)\n",
    "m_codes = []\n",
    "for n in exp_names:\n",
    "    try:\n",
    "        m_codes.append(np.load(os.path.join(codes_dir, n + '.npy')))\n",
    "    except IOError:\n",
    "        # .npz, e.g. pca with keys: codes, explained_variance\n",
    "        m_codes.append(np.load(os.path.join(codes_dir, n + '.npz'))['codes'])\n",
    "\n",
    "# load targets (groundtruths)\n",
    "gts = np.load(os.path.join(data_dir, 'teapots.npz'))['gts']\n",
    "n_samples = gts.shape[0]\n",
    "n_z = gts.shape[1] #num gen factors\n",
    "n_train, n_dev, n_test = int(train_fract*n_samples), int(dev_fract*n_samples), int(test_fract*n_samples)\n",
    "\n",
    "# create 'gap' in data if zeroshot (unseen factor combinations)\n",
    "if zshot:\n",
    "    try:\n",
    "        gap_ids = np.load(os.path.join(data_dir, 'gap_ids.npy'))\n",
    "    except IOError:\n",
    "        gap_ids = get_gap_ids(gts)\n",
    "    def create_gap(data):\n",
    "        return np.delete(data, gap_ids, 0)\n",
    "    \n",
    "# split inputs and targets into sets: [train, dev, test, (zeroshot)]\n",
    "def split_data(data):\n",
    "    train = data[:n_train]\n",
    "    dev = data[n_train: n_train + n_dev]\n",
    "    test = data[n_train + n_dev: n_train + n_dev + n_test]\n",
    "    if zshot:\n",
    "        return [create_gap(train), create_gap(dev), create_gap(test), data[gap_ids]]\n",
    "    return [train, dev, test, None]\n",
    "\n",
    "gts = split_data(gts)\n",
    "for i in range(n_models):\n",
    "    m_codes[i] = split_data(m_codes[i])    \n",
    "\n",
    "# normalize input and target datasets [train, dev, test, (zeroshot)]\n",
    "def normalize_datasets(datasets):\n",
    "    datasets[0], mean, std, _ = normalize(datasets[0], remove_constant=False)\n",
    "    datasets[1], _, _, _ = normalize(datasets[1], mean, std, remove_constant=False)\n",
    "    datasets[2], _, _, _ = normalize(datasets[2], mean, std, remove_constant=False)\n",
    "    if zshot:\n",
    "        datasets[3], _, _, _ = normalize(datasets[3], mean, std, remove_constant=False)\n",
    "    return datasets\n",
    "\n",
    "gts = normalize_datasets(gts)\n",
    "for i in range(n_models):\n",
    "    m_codes[i] = normalize_datasets(m_codes[i])"
   ]
  },
  {
   "cell_type": "markdown",
   "metadata": {},
   "source": [
    "# Regression"
   ]
  },
  {
   "cell_type": "markdown",
   "metadata": {},
   "source": [
    "### Fit regressor, visualise and quantify criteria"
   ]
  },
  {
   "cell_type": "code",
   "execution_count": 2,
   "metadata": {
    "scrolled": true
   },
   "outputs": [],
   "source": [
    "import matplotlib.pyplot as plt\n",
    "%matplotlib inline\n",
    "from lib.eval.hinton import hinton\n",
    "from lib.eval.regression import *\n",
    "\n",
    "def fit_visualise_quantify(regressor, params, err_fn, importances_attr, test_time=False):\n",
    "    # lists to store scores\n",
    "    m_disent_scores   = [] * n_models\n",
    "    m_complete_scores = [] * n_models\n",
    "    \n",
    "    # arrays to store errors (+1 for avg)\n",
    "    train_errs = np.zeros((n_models, n_z + 1))\n",
    "    dev_errs   = np.zeros((n_models, n_z + 1))\n",
    "    test_errs  = np.zeros((n_models, n_z + 1)) \n",
    "    zshot_errs = np.zeros((n_models, n_z + 1))\n",
    "    \n",
    "    # init plot (Hinton diag)\n",
    "    fig, axs = plt.subplots(1,n_models, figsize=(7, 5), facecolor='w', edgecolor='k')\n",
    "    fig.tight_layout(w_pad=2.0)\n",
    "    axs = axs.ravel()\n",
    "    \n",
    "    for i in range(n_models):\n",
    "        # init inputs\n",
    "        X_train, X_dev, X_test, X_zshot = m_codes[i][0], m_codes[i][1], m_codes[i][2], m_codes[i][3]\n",
    "           \n",
    "        # R_ij = relative importance of c_i in predicting z_j\n",
    "        R = [] \n",
    "        \n",
    "        for j in range(n_z):\n",
    "            # init targets [shape=(n_samples, 1)]\n",
    "            y_train = gts[0][:, j]\n",
    "            y_dev   = gts[1][:, j]\n",
    "            y_test  = gts[2][:, j] if test_time else None\n",
    "            y_zshot = gts[3][:, j] if zshot else None\n",
    "            \n",
    "            # fit model\n",
    "            model = regressor(**params[i][j])\n",
    "            model.fit(X_train, y_train)\n",
    "\n",
    "            # predict\n",
    "            y_train_pred = model.predict(X_train)\n",
    "            y_dev_pred   = model.predict(X_dev)\n",
    "            y_test_pred  = model.predict(X_test) if test_time else None\n",
    "            y_zshot_pred = model.predict(X_zshot) if zshot else None\n",
    "            \n",
    "            # calculate errors\n",
    "            train_errs[i, j] = err_fn(y_train_pred, y_train)\n",
    "            dev_errs[i, j]   = err_fn(y_dev_pred, y_dev)\n",
    "            test_errs[i, j]  = err_fn(y_test_pred, y_test) if test_time else None\n",
    "            zshot_errs[i, j] = err_fn(y_zshot_pred, y_zshot) if zshot else None            \n",
    "            \n",
    "            # extract relative importance of each code variable in predicting z_j\n",
    "            r = getattr(model, importances_attr)[:, None] # [n_c, 1]\n",
    "            R.append(r)\n",
    "\n",
    "        R = np.hstack(R)\n",
    "\n",
    "        # disentanglement\n",
    "        disent_scores = entropic_scores(R.T)\n",
    "        c_rel_importance = np.sum(R,1) / np.sum(R) # relative importance of each code variable\n",
    "        disent_w_avg = np.sum(np.array(disent_scores) * c_rel_importance)\n",
    "        disent_scores.append(disent_w_avg)\n",
    "        m_disent_scores.append(disent_scores)\n",
    "\n",
    "        # completeness\n",
    "        complete_scores = entropic_scores(R)\n",
    "        complete_avg = np.mean(complete_scores)\n",
    "        complete_scores.append(complete_avg)\n",
    "        m_complete_scores.append(complete_scores)\n",
    "\n",
    "        # informativeness (append averages)\n",
    "        train_errs[i, -1] = np.mean(train_errs[i, :-1])\n",
    "        dev_errs[i, -1]   = np.mean(dev_errs[i, :-1])\n",
    "        test_errs[i, -1]  = np.mean(test_errs[i, :-1]) if test_time else None\n",
    "        zshot_errs[i, -1] = np.mean(zshot_errs[i, :-1]) if zshot else None\n",
    "\n",
    "        # visualise\n",
    "        hinton(R, '$\\mathbf{z}$', '$\\mathbf{c}$', ax=axs[i], fontsize=18)\n",
    "        axs[i].set_title('${0}$'.format(model_names[i]), fontsize=20)\n",
    "\n",
    "    plt.show()\n",
    "\n",
    "    print_table_pretty('Disentanglement', m_disent_scores, 'c', model_names)\n",
    "    print_table_pretty('Completeness', m_complete_scores, 'z', model_names)\n",
    "\n",
    "    print(\"Informativeness:\")\n",
    "    \n",
    "    print_table_pretty('Training Error', train_errs, 'z', model_names)\n",
    "    print_table_pretty('Validation Error', dev_errs, 'z', model_names)\n",
    "    \n",
    "    if test_time:\n",
    "        print_table_pretty('Test Error', test_errs, 'z', model_names)\n",
    "        if zshot:\n",
    "            print_table_pretty('Zeroshot Error', zshot_errs, 'z', model_names)"
   ]
  },
  {
   "cell_type": "markdown",
   "metadata": {},
   "source": [
    "### Lasso"
   ]
  },
  {
   "cell_type": "code",
   "execution_count": 8,
   "metadata": {},
   "outputs": [
    {
     "data": {
      "image/png": "[encoded data removed]",
      "text/plain": [
       "<matplotlib.figure.Figure at 0x7fef8f836d68>"
      ]
     },
     "metadata": {},
     "output_type": "display_data"
    },
    {
     "name": "stdout",
     "output_type": "stream",
     "text": [
      "Disentanglement:\n",
      "\tc0\tc1\tc2\tc3\tc4\tc5\tAvg.\n",
      "PCA\t0.16&\t0.38&\t0.42&\t0.14&\t0.63&\t0.16&\t0.20&\t\n",
      "InfoGAN\t0.83&\t0.64&\t0.65&\t0.93&\t0.79&\t0.79&\t0.77&\t\n",
      "\n",
      "Completeness:\n",
      "\tz0\tz1\tz2\tz3\tz4\tAvg.\n",
      "PCA\t0.83&\t0.54&\t0.14&\t0.20&\t0.19&\t0.38&\t\n",
      "InfoGAN\t0.56&\t0.85&\t0.80&\t0.63&\t0.78&\t0.72&\t\n",
      "\n",
      "Informativeness:\n",
      "Training Error:\n",
      "\tz0\tz1\tz2\tz3\tz4\tAvg.\n",
      "PCA\t0.99&\t0.51&\t0.35&\t0.35&\t0.35&\t0.51&\t\n",
      "InfoGAN\t0.49&\t0.09&\t0.09&\t0.13&\t0.09&\t0.18&\t\n",
      "\n",
      "Validation Error:\n",
      "\tz0\tz1\tz2\tz3\tz4\tAvg.\n",
      "PCA\t0.99&\t0.52&\t0.36&\t0.35&\t0.35&\t0.51&\t\n",
      "InfoGAN\t0.50&\t0.09&\t0.09&\t0.13&\t0.09&\t0.18&\t\n",
      "\n"
     ]
    }
   ],
   "source": [
    "from sklearn.linear_model import Lasso\n",
    "\n",
    "alpha = 0.015\n",
    "params = [[{\"alpha\": alpha}] * n_z] * n_models # constant alpha for all models and targets\n",
    "importances_attr = 'coef_' # i.e. weights\n",
    "err_fn = nrmse #norm root mean sq. error\n",
    "\n",
    "fit_visualise_quantify(Lasso, params, err_fn, importances_attr)"
   ]
  },
  {
   "cell_type": "markdown",
   "metadata": {},
   "source": [
    "### Random Forest"
   ]
  },
  {
   "cell_type": "code",
   "execution_count": null,
   "metadata": {},
   "outputs": [],
   "source": [
    "from sklearn.ensemble.forest import RandomForestRegressor\n",
    "\n",
    "n_estimators = 10\n",
    "all_best_depths = [[14, 10, 10, 10, 10] , [12, 10, 10, 10, 10]]\n",
    "\n",
    "# populate params dict with best_depths per model per target (z gt)\n",
    "params = [[]] * n_models\n",
    "for i, z_max_depths in enumerate(all_best_depths):\n",
    "    for z_max_depth in z_max_depths:\n",
    "        params[i].append({\"n_estimators\":n_estimators, \"max_depth\":z_max_depth, \"random_state\": rng})\n",
    "\n",
    "importances_attr = 'feature_importances_'\n",
    "err_fn = nrmse #norm root mean sq. error\n",
    "\n",
    "fit_visualise_quantify(RandomForestRegressor, params, err_fn, importances_attr)"
   ]
  }
 ],
 "metadata": {
  "kernelspec": {
   "display_name": "Python 2",
   "language": "python",
   "name": "python2"
  },
  "language_info": {
   "codemirror_mode": {
    "name": "ipython",
    "version": 3
   },
   "file_extension": ".py",
   "mimetype": "text/x-python",
   "name": "python",
   "nbconvert_exporter": "python",
   "pygments_lexer": "ipython3",
   "version": "3.6.3"
  }
 },
 "nbformat": 4,
 "nbformat_minor": 2
}
